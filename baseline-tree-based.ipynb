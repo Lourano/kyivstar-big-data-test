{
 "cells": [
  {
   "cell_type": "code",
   "execution_count": 1,
   "metadata": {
    "_cell_guid": "b1076dfc-b9ad-4769-8c92-a6c4dae69d19",
    "_uuid": "8f2839f25d086af736a60e9eeb907d3b93b6e0e5",
    "execution": {
     "iopub.execute_input": "2020-10-11T06:42:02.987371Z",
     "iopub.status.busy": "2020-10-11T06:42:02.986349Z",
     "iopub.status.idle": "2020-10-11T06:42:04.340153Z",
     "shell.execute_reply": "2020-10-11T06:42:04.339448Z"
    },
    "papermill": {
     "duration": 1.397904,
     "end_time": "2020-10-11T06:42:04.340300",
     "exception": false,
     "start_time": "2020-10-11T06:42:02.942396",
     "status": "completed"
    },
    "tags": []
   },
   "outputs": [],
   "source": [
    "import pandas as pd\n",
    "import numpy as np\n",
    "import matplotlib.pyplot as plt\n",
    "import matplotlib\n",
    "from sklearn.ensemble import RandomForestClassifier\n",
    "from sklearn.ensemble import ExtraTreesClassifier,AdaBoostClassifier\n",
    "from sklearn.model_selection import StratifiedKFold\n",
    "from sklearn.metrics import roc_curve, auc\n",
    "%matplotlib inline\n",
    "matplotlib.rcParams.update({'font.size': 20})"
   ]
  },
  {
   "cell_type": "code",
   "execution_count": 2,
   "metadata": {
    "execution": {
     "iopub.execute_input": "2020-10-11T06:42:04.413652Z",
     "iopub.status.busy": "2020-10-11T06:42:04.412637Z",
     "iopub.status.idle": "2020-10-11T06:42:04.415758Z",
     "shell.execute_reply": "2020-10-11T06:42:04.415156Z"
    },
    "papermill": {
     "duration": 0.040638,
     "end_time": "2020-10-11T06:42:04.415888",
     "exception": false,
     "start_time": "2020-10-11T06:42:04.375250",
     "status": "completed"
    },
    "tags": []
   },
   "outputs": [],
   "source": [
    "normalize = False\n",
    "BEST_FEATURES = True\n",
    "TARGET_ENCODING = False\n",
    "TRAIN_WITH_CATS = False\n",
    "LIGHT_GBM = True\n",
    "CAT_BOOST = False"
   ]
  },
  {
   "cell_type": "code",
   "execution_count": 3,
   "metadata": {
    "_cell_guid": "79c7e3d0-c299-4dcb-8224-4455121ee9b0",
    "_uuid": "d629ff2d2480ee46fbb7e2d37f6b5fab8052498a",
    "execution": {
     "iopub.execute_input": "2020-10-11T06:42:04.493810Z",
     "iopub.status.busy": "2020-10-11T06:42:04.492970Z",
     "iopub.status.idle": "2020-10-11T06:42:05.321982Z",
     "shell.execute_reply": "2020-10-11T06:42:05.321170Z"
    },
    "papermill": {
     "duration": 0.873185,
     "end_time": "2020-10-11T06:42:05.322111",
     "exception": false,
     "start_time": "2020-10-11T06:42:04.448926",
     "status": "completed"
    },
    "tags": []
   },
   "outputs": [],
   "source": [
    "y_train = pd.read_csv('../input/kyivstar-bigdata-2020/train.csv')\n",
    "y_test = pd.read_csv('../input/kyivstar-bigdata-2020/test.csv')\n",
    "tabular_data = pd.read_csv('../input/kyivstar-bigdata-2020/tabular_data.csv')\n",
    "id_ = tabular_data.id\n",
    "hashed_feature = pd.read_csv('../input/kyivstar-bigdata-2020/hashed_feature.csv')"
   ]
  },
  {
   "cell_type": "code",
   "execution_count": 4,
   "metadata": {
    "execution": {
     "iopub.execute_input": "2020-10-11T06:42:05.396934Z",
     "iopub.status.busy": "2020-10-11T06:42:05.395709Z",
     "iopub.status.idle": "2020-10-11T06:42:05.401511Z",
     "shell.execute_reply": "2020-10-11T06:42:05.400853Z"
    },
    "papermill": {
     "duration": 0.047077,
     "end_time": "2020-10-11T06:42:05.401656",
     "exception": false,
     "start_time": "2020-10-11T06:42:05.354579",
     "status": "completed"
    },
    "tags": []
   },
   "outputs": [
    {
     "data": {
      "text/plain": [
       "((4084, 2), (1022, 2))"
      ]
     },
     "execution_count": 4,
     "metadata": {},
     "output_type": "execute_result"
    }
   ],
   "source": [
    "y_train.shape, y_test.shape"
   ]
  },
  {
   "cell_type": "code",
   "execution_count": 5,
   "metadata": {
    "execution": {
     "iopub.execute_input": "2020-10-11T06:42:05.476812Z",
     "iopub.status.busy": "2020-10-11T06:42:05.475608Z",
     "iopub.status.idle": "2020-10-11T06:42:18.100630Z",
     "shell.execute_reply": "2020-10-11T06:42:18.099962Z"
    },
    "papermill": {
     "duration": 12.66452,
     "end_time": "2020-10-11T06:42:18.100773",
     "exception": false,
     "start_time": "2020-10-11T06:42:05.436253",
     "status": "completed"
    },
    "tags": []
   },
   "outputs": [],
   "source": [
    "tabular_data = tabular_data.fillna(tabular_data.mean())"
   ]
  },
  {
   "cell_type": "code",
   "execution_count": 6,
   "metadata": {
    "execution": {
     "iopub.execute_input": "2020-10-11T06:42:18.186251Z",
     "iopub.status.busy": "2020-10-11T06:42:18.184533Z",
     "iopub.status.idle": "2020-10-11T06:42:18.190040Z",
     "shell.execute_reply": "2020-10-11T06:42:18.189408Z"
    },
    "papermill": {
     "duration": 0.054268,
     "end_time": "2020-10-11T06:42:18.190196",
     "exception": false,
     "start_time": "2020-10-11T06:42:18.135928",
     "status": "completed"
    },
    "tags": []
   },
   "outputs": [],
   "source": [
    "tabular_data = tabular_data.drop(['feature_41'], axis = 1)"
   ]
  },
  {
   "cell_type": "code",
   "execution_count": 7,
   "metadata": {
    "execution": {
     "iopub.execute_input": "2020-10-11T06:42:18.264635Z",
     "iopub.status.busy": "2020-10-11T06:42:18.263787Z",
     "iopub.status.idle": "2020-10-11T06:42:18.395718Z",
     "shell.execute_reply": "2020-10-11T06:42:18.394988Z"
    },
    "papermill": {
     "duration": 0.172489,
     "end_time": "2020-10-11T06:42:18.395857",
     "exception": false,
     "start_time": "2020-10-11T06:42:18.223368",
     "status": "completed"
    },
    "tags": []
   },
   "outputs": [],
   "source": [
    "def split_objf(df, unique_num):\n",
    "    for i in df.columns:\n",
    "        if df[i].nunique() <= unique_num:\n",
    "            pos_enc = [j for j in df.columns if df[j].nunique() <= unique_num]\n",
    "            return pos_enc\n",
    "unique_num = 300\n",
    "cat_features = split_objf(tabular_data, unique_num=unique_num)\n",
    "tabular_cats = tabular_data[cat_features]\n",
    "tabular_data = tabular_data.drop(cat_features, axis = 1)"
   ]
  },
  {
   "cell_type": "code",
   "execution_count": 8,
   "metadata": {
    "execution": {
     "iopub.execute_input": "2020-10-11T06:42:18.469556Z",
     "iopub.status.busy": "2020-10-11T06:42:18.468113Z",
     "iopub.status.idle": "2020-10-11T06:42:18.491779Z",
     "shell.execute_reply": "2020-10-11T06:42:18.492386Z"
    },
    "papermill": {
     "duration": 0.064582,
     "end_time": "2020-10-11T06:42:18.492557",
     "exception": false,
     "start_time": "2020-10-11T06:42:18.427975",
     "status": "completed"
    },
    "tags": []
   },
   "outputs": [
    {
     "name": "stdout",
     "output_type": "stream",
     "text": [
      "<class 'pandas.core.frame.DataFrame'>\n",
      "RangeIndex: 61272 entries, 0 to 61271\n",
      "Data columns (total 43 columns):\n",
      " #   Column      Non-Null Count  Dtype  \n",
      "---  ------      --------------  -----  \n",
      " 0   id          61272 non-null  int64  \n",
      " 1   feature_1   61272 non-null  float64\n",
      " 2   feature_2   61272 non-null  float64\n",
      " 3   feature_3   61272 non-null  float64\n",
      " 4   feature_4   61272 non-null  float64\n",
      " 5   feature_5   61272 non-null  float64\n",
      " 6   feature_6   61272 non-null  float64\n",
      " 7   feature_7   61272 non-null  float64\n",
      " 8   feature_8   61272 non-null  float64\n",
      " 9   feature_9   61272 non-null  float64\n",
      " 10  feature_10  61272 non-null  float64\n",
      " 11  feature_11  61272 non-null  float64\n",
      " 12  feature_12  61272 non-null  float64\n",
      " 13  feature_13  61272 non-null  float64\n",
      " 14  feature_16  61272 non-null  float64\n",
      " 15  feature_17  61272 non-null  float64\n",
      " 16  feature_18  61272 non-null  float64\n",
      " 17  feature_19  61272 non-null  float64\n",
      " 18  feature_20  61272 non-null  float64\n",
      " 19  feature_21  61272 non-null  float64\n",
      " 20  feature_22  61272 non-null  float64\n",
      " 21  feature_23  61272 non-null  float64\n",
      " 22  feature_26  61272 non-null  float64\n",
      " 23  feature_27  61272 non-null  float64\n",
      " 24  feature_28  61272 non-null  float64\n",
      " 25  feature_29  61272 non-null  float64\n",
      " 26  feature_30  61272 non-null  float64\n",
      " 27  feature_31  61272 non-null  float64\n",
      " 28  feature_32  61272 non-null  float64\n",
      " 29  feature_33  61272 non-null  float64\n",
      " 30  feature_34  61272 non-null  float64\n",
      " 31  feature_35  61272 non-null  float64\n",
      " 32  feature_36  61272 non-null  float64\n",
      " 33  feature_37  61272 non-null  float64\n",
      " 34  feature_38  61272 non-null  float64\n",
      " 35  feature_39  61272 non-null  float64\n",
      " 36  feature_40  61272 non-null  float64\n",
      " 37  feature_42  61272 non-null  float64\n",
      " 38  feature_44  61272 non-null  float64\n",
      " 39  feature_46  61272 non-null  float64\n",
      " 40  feature_47  61272 non-null  float64\n",
      " 41  feature_48  61272 non-null  float64\n",
      " 42  feature_49  61272 non-null  float64\n",
      "dtypes: float64(42), int64(1)\n",
      "memory usage: 20.1 MB\n"
     ]
    }
   ],
   "source": [
    "tabular_data.info()"
   ]
  },
  {
   "cell_type": "code",
   "execution_count": 9,
   "metadata": {
    "execution": {
     "iopub.execute_input": "2020-10-11T06:42:18.572847Z",
     "iopub.status.busy": "2020-10-11T06:42:18.572047Z",
     "iopub.status.idle": "2020-10-11T06:42:18.906427Z",
     "shell.execute_reply": "2020-10-11T06:42:18.905649Z"
    },
    "papermill": {
     "duration": 0.380447,
     "end_time": "2020-10-11T06:42:18.906560",
     "exception": false,
     "start_time": "2020-10-11T06:42:18.526113",
     "status": "completed"
    },
    "tags": []
   },
   "outputs": [
    {
     "data": {
      "text/html": [
       "<div>\n",
       "<style scoped>\n",
       "    .dataframe tbody tr th:only-of-type {\n",
       "        vertical-align: middle;\n",
       "    }\n",
       "\n",
       "    .dataframe tbody tr th {\n",
       "        vertical-align: top;\n",
       "    }\n",
       "\n",
       "    .dataframe thead th {\n",
       "        text-align: right;\n",
       "    }\n",
       "</style>\n",
       "<table border=\"1\" class=\"dataframe\">\n",
       "  <thead>\n",
       "    <tr style=\"text-align: right;\">\n",
       "      <th></th>\n",
       "      <th>feature_1_mean</th>\n",
       "      <th>feature_1_max</th>\n",
       "      <th>feature_1_min</th>\n",
       "      <th>feature_1_sum</th>\n",
       "      <th>feature_2_mean</th>\n",
       "      <th>feature_2_max</th>\n",
       "      <th>feature_2_min</th>\n",
       "      <th>feature_2_sum</th>\n",
       "      <th>feature_3_mean</th>\n",
       "      <th>feature_3_max</th>\n",
       "      <th>...</th>\n",
       "      <th>feature_47_min</th>\n",
       "      <th>feature_47_sum</th>\n",
       "      <th>feature_48_mean</th>\n",
       "      <th>feature_48_max</th>\n",
       "      <th>feature_48_min</th>\n",
       "      <th>feature_48_sum</th>\n",
       "      <th>feature_49_mean</th>\n",
       "      <th>feature_49_max</th>\n",
       "      <th>feature_49_min</th>\n",
       "      <th>feature_49_sum</th>\n",
       "    </tr>\n",
       "  </thead>\n",
       "  <tbody>\n",
       "    <tr>\n",
       "      <th>0</th>\n",
       "      <td>60.916667</td>\n",
       "      <td>110.000000</td>\n",
       "      <td>55.0</td>\n",
       "      <td>731.000000</td>\n",
       "      <td>0.238880</td>\n",
       "      <td>0.552340</td>\n",
       "      <td>0.083655</td>\n",
       "      <td>2.866555</td>\n",
       "      <td>293.635812</td>\n",
       "      <td>1099.289203</td>\n",
       "      <td>...</td>\n",
       "      <td>85.0</td>\n",
       "      <td>1714.000000</td>\n",
       "      <td>315.011667</td>\n",
       "      <td>702.920000</td>\n",
       "      <td>91.120000</td>\n",
       "      <td>3780.140000</td>\n",
       "      <td>0.250000</td>\n",
       "      <td>2.000000</td>\n",
       "      <td>0.0</td>\n",
       "      <td>3.000000</td>\n",
       "    </tr>\n",
       "    <tr>\n",
       "      <th>1</th>\n",
       "      <td>135.541667</td>\n",
       "      <td>230.000000</td>\n",
       "      <td>125.0</td>\n",
       "      <td>1626.500000</td>\n",
       "      <td>0.060443</td>\n",
       "      <td>0.218627</td>\n",
       "      <td>0.018295</td>\n",
       "      <td>0.725314</td>\n",
       "      <td>6940.579852</td>\n",
       "      <td>13647.313124</td>\n",
       "      <td>...</td>\n",
       "      <td>77.0</td>\n",
       "      <td>1631.000000</td>\n",
       "      <td>288.885904</td>\n",
       "      <td>288.885904</td>\n",
       "      <td>288.885904</td>\n",
       "      <td>3466.630853</td>\n",
       "      <td>204.334131</td>\n",
       "      <td>2433.009568</td>\n",
       "      <td>0.0</td>\n",
       "      <td>2452.009568</td>\n",
       "    </tr>\n",
       "    <tr>\n",
       "      <th>2</th>\n",
       "      <td>0.597500</td>\n",
       "      <td>6.000000</td>\n",
       "      <td>0.0</td>\n",
       "      <td>7.170000</td>\n",
       "      <td>0.713310</td>\n",
       "      <td>5.203073</td>\n",
       "      <td>0.305150</td>\n",
       "      <td>8.559721</td>\n",
       "      <td>0.141369</td>\n",
       "      <td>1.696433</td>\n",
       "      <td>...</td>\n",
       "      <td>0.0</td>\n",
       "      <td>121.000000</td>\n",
       "      <td>2.470000</td>\n",
       "      <td>18.530000</td>\n",
       "      <td>0.000000</td>\n",
       "      <td>29.640000</td>\n",
       "      <td>0.000000</td>\n",
       "      <td>0.000000</td>\n",
       "      <td>0.0</td>\n",
       "      <td>0.000000</td>\n",
       "    </tr>\n",
       "    <tr>\n",
       "      <th>3</th>\n",
       "      <td>80.981807</td>\n",
       "      <td>87.142409</td>\n",
       "      <td>33.5</td>\n",
       "      <td>971.781683</td>\n",
       "      <td>0.685844</td>\n",
       "      <td>5.170391</td>\n",
       "      <td>0.008239</td>\n",
       "      <td>8.230128</td>\n",
       "      <td>2631.539627</td>\n",
       "      <td>3747.802363</td>\n",
       "      <td>...</td>\n",
       "      <td>45.0</td>\n",
       "      <td>1446.667448</td>\n",
       "      <td>230.493595</td>\n",
       "      <td>288.885904</td>\n",
       "      <td>4.470000</td>\n",
       "      <td>2765.923140</td>\n",
       "      <td>48.390684</td>\n",
       "      <td>62.298690</td>\n",
       "      <td>2.0</td>\n",
       "      <td>580.688209</td>\n",
       "    </tr>\n",
       "    <tr>\n",
       "      <th>4</th>\n",
       "      <td>126.000000</td>\n",
       "      <td>302.000000</td>\n",
       "      <td>30.5</td>\n",
       "      <td>1512.000000</td>\n",
       "      <td>0.133693</td>\n",
       "      <td>0.177734</td>\n",
       "      <td>0.071258</td>\n",
       "      <td>1.604314</td>\n",
       "      <td>2568.283478</td>\n",
       "      <td>5491.642975</td>\n",
       "      <td>...</td>\n",
       "      <td>106.0</td>\n",
       "      <td>2284.000000</td>\n",
       "      <td>288.885904</td>\n",
       "      <td>288.885904</td>\n",
       "      <td>288.885904</td>\n",
       "      <td>3466.630853</td>\n",
       "      <td>208.911004</td>\n",
       "      <td>2297.932045</td>\n",
       "      <td>8.0</td>\n",
       "      <td>2506.932045</td>\n",
       "    </tr>\n",
       "    <tr>\n",
       "      <th>...</th>\n",
       "      <td>...</td>\n",
       "      <td>...</td>\n",
       "      <td>...</td>\n",
       "      <td>...</td>\n",
       "      <td>...</td>\n",
       "      <td>...</td>\n",
       "      <td>...</td>\n",
       "      <td>...</td>\n",
       "      <td>...</td>\n",
       "      <td>...</td>\n",
       "      <td>...</td>\n",
       "      <td>...</td>\n",
       "      <td>...</td>\n",
       "      <td>...</td>\n",
       "      <td>...</td>\n",
       "      <td>...</td>\n",
       "      <td>...</td>\n",
       "      <td>...</td>\n",
       "      <td>...</td>\n",
       "      <td>...</td>\n",
       "      <td>...</td>\n",
       "    </tr>\n",
       "    <tr>\n",
       "      <th>5101</th>\n",
       "      <td>94.166667</td>\n",
       "      <td>151.500000</td>\n",
       "      <td>75.0</td>\n",
       "      <td>1130.000000</td>\n",
       "      <td>0.292280</td>\n",
       "      <td>0.503273</td>\n",
       "      <td>0.129016</td>\n",
       "      <td>3.507360</td>\n",
       "      <td>180.142899</td>\n",
       "      <td>1174.050537</td>\n",
       "      <td>...</td>\n",
       "      <td>131.0</td>\n",
       "      <td>2007.000000</td>\n",
       "      <td>858.400833</td>\n",
       "      <td>1754.230000</td>\n",
       "      <td>373.970000</td>\n",
       "      <td>10300.810000</td>\n",
       "      <td>6.500000</td>\n",
       "      <td>15.000000</td>\n",
       "      <td>0.0</td>\n",
       "      <td>78.000000</td>\n",
       "    </tr>\n",
       "    <tr>\n",
       "      <th>5102</th>\n",
       "      <td>80.675000</td>\n",
       "      <td>102.500000</td>\n",
       "      <td>32.6</td>\n",
       "      <td>968.100000</td>\n",
       "      <td>0.755737</td>\n",
       "      <td>5.184616</td>\n",
       "      <td>0.249870</td>\n",
       "      <td>9.068844</td>\n",
       "      <td>0.000000</td>\n",
       "      <td>0.000000</td>\n",
       "      <td>...</td>\n",
       "      <td>53.0</td>\n",
       "      <td>1229.000000</td>\n",
       "      <td>187.505833</td>\n",
       "      <td>378.230000</td>\n",
       "      <td>28.900000</td>\n",
       "      <td>2250.070000</td>\n",
       "      <td>1.666667</td>\n",
       "      <td>8.000000</td>\n",
       "      <td>0.0</td>\n",
       "      <td>20.000000</td>\n",
       "    </tr>\n",
       "    <tr>\n",
       "      <th>5103</th>\n",
       "      <td>22.568333</td>\n",
       "      <td>70.000000</td>\n",
       "      <td>0.0</td>\n",
       "      <td>270.820000</td>\n",
       "      <td>0.801533</td>\n",
       "      <td>4.998246</td>\n",
       "      <td>0.286167</td>\n",
       "      <td>9.618391</td>\n",
       "      <td>0.000000</td>\n",
       "      <td>0.000000</td>\n",
       "      <td>...</td>\n",
       "      <td>6.0</td>\n",
       "      <td>207.000000</td>\n",
       "      <td>288.885904</td>\n",
       "      <td>288.885904</td>\n",
       "      <td>288.885904</td>\n",
       "      <td>3466.630853</td>\n",
       "      <td>7.666667</td>\n",
       "      <td>19.000000</td>\n",
       "      <td>0.0</td>\n",
       "      <td>92.000000</td>\n",
       "    </tr>\n",
       "    <tr>\n",
       "      <th>5104</th>\n",
       "      <td>86.230833</td>\n",
       "      <td>190.000000</td>\n",
       "      <td>75.0</td>\n",
       "      <td>1034.770000</td>\n",
       "      <td>0.068594</td>\n",
       "      <td>0.101403</td>\n",
       "      <td>0.041683</td>\n",
       "      <td>0.823126</td>\n",
       "      <td>988.894377</td>\n",
       "      <td>2153.343195</td>\n",
       "      <td>...</td>\n",
       "      <td>36.0</td>\n",
       "      <td>731.000000</td>\n",
       "      <td>49.870833</td>\n",
       "      <td>87.570000</td>\n",
       "      <td>21.080000</td>\n",
       "      <td>598.450000</td>\n",
       "      <td>4.583333</td>\n",
       "      <td>17.000000</td>\n",
       "      <td>0.0</td>\n",
       "      <td>55.000000</td>\n",
       "    </tr>\n",
       "    <tr>\n",
       "      <th>5105</th>\n",
       "      <td>76.458333</td>\n",
       "      <td>121.000000</td>\n",
       "      <td>35.0</td>\n",
       "      <td>917.500000</td>\n",
       "      <td>0.305150</td>\n",
       "      <td>0.305150</td>\n",
       "      <td>0.305150</td>\n",
       "      <td>3.661797</td>\n",
       "      <td>0.000000</td>\n",
       "      <td>0.000000</td>\n",
       "      <td>...</td>\n",
       "      <td>34.0</td>\n",
       "      <td>524.000000</td>\n",
       "      <td>58.860833</td>\n",
       "      <td>139.870000</td>\n",
       "      <td>14.230000</td>\n",
       "      <td>706.330000</td>\n",
       "      <td>0.000000</td>\n",
       "      <td>0.000000</td>\n",
       "      <td>0.0</td>\n",
       "      <td>0.000000</td>\n",
       "    </tr>\n",
       "  </tbody>\n",
       "</table>\n",
       "<p>5106 rows × 168 columns</p>\n",
       "</div>"
      ],
      "text/plain": [
       "      feature_1_mean  feature_1_max  feature_1_min  feature_1_sum  \\\n",
       "0          60.916667     110.000000           55.0     731.000000   \n",
       "1         135.541667     230.000000          125.0    1626.500000   \n",
       "2           0.597500       6.000000            0.0       7.170000   \n",
       "3          80.981807      87.142409           33.5     971.781683   \n",
       "4         126.000000     302.000000           30.5    1512.000000   \n",
       "...              ...            ...            ...            ...   \n",
       "5101       94.166667     151.500000           75.0    1130.000000   \n",
       "5102       80.675000     102.500000           32.6     968.100000   \n",
       "5103       22.568333      70.000000            0.0     270.820000   \n",
       "5104       86.230833     190.000000           75.0    1034.770000   \n",
       "5105       76.458333     121.000000           35.0     917.500000   \n",
       "\n",
       "      feature_2_mean  feature_2_max  feature_2_min  feature_2_sum  \\\n",
       "0           0.238880       0.552340       0.083655       2.866555   \n",
       "1           0.060443       0.218627       0.018295       0.725314   \n",
       "2           0.713310       5.203073       0.305150       8.559721   \n",
       "3           0.685844       5.170391       0.008239       8.230128   \n",
       "4           0.133693       0.177734       0.071258       1.604314   \n",
       "...              ...            ...            ...            ...   \n",
       "5101        0.292280       0.503273       0.129016       3.507360   \n",
       "5102        0.755737       5.184616       0.249870       9.068844   \n",
       "5103        0.801533       4.998246       0.286167       9.618391   \n",
       "5104        0.068594       0.101403       0.041683       0.823126   \n",
       "5105        0.305150       0.305150       0.305150       3.661797   \n",
       "\n",
       "      feature_3_mean  feature_3_max  ...  feature_47_min  feature_47_sum  \\\n",
       "0         293.635812    1099.289203  ...            85.0     1714.000000   \n",
       "1        6940.579852   13647.313124  ...            77.0     1631.000000   \n",
       "2           0.141369       1.696433  ...             0.0      121.000000   \n",
       "3        2631.539627    3747.802363  ...            45.0     1446.667448   \n",
       "4        2568.283478    5491.642975  ...           106.0     2284.000000   \n",
       "...              ...            ...  ...             ...             ...   \n",
       "5101      180.142899    1174.050537  ...           131.0     2007.000000   \n",
       "5102        0.000000       0.000000  ...            53.0     1229.000000   \n",
       "5103        0.000000       0.000000  ...             6.0      207.000000   \n",
       "5104      988.894377    2153.343195  ...            36.0      731.000000   \n",
       "5105        0.000000       0.000000  ...            34.0      524.000000   \n",
       "\n",
       "      feature_48_mean  feature_48_max  feature_48_min  feature_48_sum  \\\n",
       "0          315.011667      702.920000       91.120000     3780.140000   \n",
       "1          288.885904      288.885904      288.885904     3466.630853   \n",
       "2            2.470000       18.530000        0.000000       29.640000   \n",
       "3          230.493595      288.885904        4.470000     2765.923140   \n",
       "4          288.885904      288.885904      288.885904     3466.630853   \n",
       "...               ...             ...             ...             ...   \n",
       "5101       858.400833     1754.230000      373.970000    10300.810000   \n",
       "5102       187.505833      378.230000       28.900000     2250.070000   \n",
       "5103       288.885904      288.885904      288.885904     3466.630853   \n",
       "5104        49.870833       87.570000       21.080000      598.450000   \n",
       "5105        58.860833      139.870000       14.230000      706.330000   \n",
       "\n",
       "      feature_49_mean  feature_49_max  feature_49_min  feature_49_sum  \n",
       "0            0.250000        2.000000             0.0        3.000000  \n",
       "1          204.334131     2433.009568             0.0     2452.009568  \n",
       "2            0.000000        0.000000             0.0        0.000000  \n",
       "3           48.390684       62.298690             2.0      580.688209  \n",
       "4          208.911004     2297.932045             8.0     2506.932045  \n",
       "...               ...             ...             ...             ...  \n",
       "5101         6.500000       15.000000             0.0       78.000000  \n",
       "5102         1.666667        8.000000             0.0       20.000000  \n",
       "5103         7.666667       19.000000             0.0       92.000000  \n",
       "5104         4.583333       17.000000             0.0       55.000000  \n",
       "5105         0.000000        0.000000             0.0        0.000000  \n",
       "\n",
       "[5106 rows x 168 columns]"
      ]
     },
     "execution_count": 9,
     "metadata": {},
     "output_type": "execute_result"
    }
   ],
   "source": [
    "tabular_data = tabular_data.groupby('id').agg(['mean', 'max', 'min', 'sum']) #,\n",
    "tabular_data.columns = [\"_\".join(i) for i in tabular_data.columns.ravel()]\n",
    "tabular_data = tabular_data.reset_index(drop = True)\n",
    "tabular_data"
   ]
  },
  {
   "cell_type": "code",
   "execution_count": 10,
   "metadata": {
    "execution": {
     "iopub.execute_input": "2020-10-11T06:42:18.981997Z",
     "iopub.status.busy": "2020-10-11T06:42:18.981268Z",
     "iopub.status.idle": "2020-10-11T06:42:19.025463Z",
     "shell.execute_reply": "2020-10-11T06:42:19.024813Z"
    },
    "papermill": {
     "duration": 0.084766,
     "end_time": "2020-10-11T06:42:19.025600",
     "exception": false,
     "start_time": "2020-10-11T06:42:18.940834",
     "status": "completed"
    },
    "tags": []
   },
   "outputs": [],
   "source": [
    "freq_feature = hashed_feature.groupby(['id']).count().reset_index()\n",
    "freq_feature = freq_feature.drop(['id'], axis=1)"
   ]
  },
  {
   "cell_type": "code",
   "execution_count": 11,
   "metadata": {
    "execution": {
     "iopub.execute_input": "2020-10-11T06:42:19.102105Z",
     "iopub.status.busy": "2020-10-11T06:42:19.101322Z",
     "iopub.status.idle": "2020-10-11T06:42:19.111092Z",
     "shell.execute_reply": "2020-10-11T06:42:19.110411Z"
    },
    "papermill": {
     "duration": 0.050812,
     "end_time": "2020-10-11T06:42:19.111246",
     "exception": false,
     "start_time": "2020-10-11T06:42:19.060434",
     "status": "completed"
    },
    "tags": []
   },
   "outputs": [],
   "source": [
    "tabular_data = pd.concat([tabular_data, freq_feature], axis=1)"
   ]
  },
  {
   "cell_type": "code",
   "execution_count": 12,
   "metadata": {
    "execution": {
     "iopub.execute_input": "2020-10-11T06:42:19.185403Z",
     "iopub.status.busy": "2020-10-11T06:42:19.184617Z",
     "iopub.status.idle": "2020-10-11T06:42:19.189676Z",
     "shell.execute_reply": "2020-10-11T06:42:19.189002Z"
    },
    "papermill": {
     "duration": 0.044072,
     "end_time": "2020-10-11T06:42:19.189808",
     "exception": false,
     "start_time": "2020-10-11T06:42:19.145736",
     "status": "completed"
    },
    "tags": []
   },
   "outputs": [],
   "source": [
    "X = tabular_data.copy()"
   ]
  },
  {
   "cell_type": "code",
   "execution_count": 13,
   "metadata": {
    "execution": {
     "iopub.execute_input": "2020-10-11T06:42:19.267352Z",
     "iopub.status.busy": "2020-10-11T06:42:19.266405Z",
     "iopub.status.idle": "2020-10-11T06:42:19.270785Z",
     "shell.execute_reply": "2020-10-11T06:42:19.271406Z"
    },
    "papermill": {
     "duration": 0.046511,
     "end_time": "2020-10-11T06:42:19.271565",
     "exception": false,
     "start_time": "2020-10-11T06:42:19.225054",
     "status": "completed"
    },
    "tags": []
   },
   "outputs": [
    {
     "data": {
      "text/plain": [
       "((4084, 169), (1022, 169))"
      ]
     },
     "execution_count": 13,
     "metadata": {},
     "output_type": "execute_result"
    }
   ],
   "source": [
    "X_train = X.iloc[0:4084,:]\n",
    "X_test = X.iloc[4084:, :]\n",
    "X_train.shape, X_test.shape"
   ]
  },
  {
   "cell_type": "code",
   "execution_count": 14,
   "metadata": {
    "execution": {
     "iopub.execute_input": "2020-10-11T06:42:19.351990Z",
     "iopub.status.busy": "2020-10-11T06:42:19.350889Z",
     "iopub.status.idle": "2020-10-11T06:42:19.354112Z",
     "shell.execute_reply": "2020-10-11T06:42:19.353502Z"
    },
    "papermill": {
     "duration": 0.047486,
     "end_time": "2020-10-11T06:42:19.354262",
     "exception": false,
     "start_time": "2020-10-11T06:42:19.306776",
     "status": "completed"
    },
    "tags": []
   },
   "outputs": [],
   "source": [
    "if BEST_FEATURES:\n",
    "    best_features = [5, 7, 11, 12, 14, 16, 18, 22, 26, 35, 38, 39, 42, 153, 155, 168] \n",
    "    X_train = X_train.iloc[:, best_features]\n",
    "    X_test = X_test.iloc[:, best_features]"
   ]
  },
  {
   "cell_type": "code",
   "execution_count": 15,
   "metadata": {
    "execution": {
     "iopub.execute_input": "2020-10-11T06:42:19.430722Z",
     "iopub.status.busy": "2020-10-11T06:42:19.429627Z",
     "iopub.status.idle": "2020-10-11T06:42:19.434124Z",
     "shell.execute_reply": "2020-10-11T06:42:19.433397Z"
    },
    "papermill": {
     "duration": 0.044747,
     "end_time": "2020-10-11T06:42:19.434271",
     "exception": false,
     "start_time": "2020-10-11T06:42:19.389524",
     "status": "completed"
    },
    "tags": []
   },
   "outputs": [
    {
     "data": {
      "text/plain": [
       "True"
      ]
     },
     "execution_count": 15,
     "metadata": {},
     "output_type": "execute_result"
    }
   ],
   "source": [
    "BEST_FEATURES"
   ]
  },
  {
   "cell_type": "code",
   "execution_count": 16,
   "metadata": {
    "execution": {
     "iopub.execute_input": "2020-10-11T06:42:19.514604Z",
     "iopub.status.busy": "2020-10-11T06:42:19.513371Z",
     "iopub.status.idle": "2020-10-11T06:42:19.516950Z",
     "shell.execute_reply": "2020-10-11T06:42:19.516206Z"
    },
    "papermill": {
     "duration": 0.046639,
     "end_time": "2020-10-11T06:42:19.517087",
     "exception": false,
     "start_time": "2020-10-11T06:42:19.470448",
     "status": "completed"
    },
    "tags": []
   },
   "outputs": [],
   "source": [
    "corr_df = X_train.copy()\n",
    "corr_df['target'] = y_train.target\n",
    "#corr_df.corr()"
   ]
  },
  {
   "cell_type": "code",
   "execution_count": 17,
   "metadata": {
    "execution": {
     "iopub.execute_input": "2020-10-11T06:42:19.595858Z",
     "iopub.status.busy": "2020-10-11T06:42:19.595032Z",
     "iopub.status.idle": "2020-10-11T06:42:19.601785Z",
     "shell.execute_reply": "2020-10-11T06:42:19.601111Z"
    },
    "papermill": {
     "duration": 0.048555,
     "end_time": "2020-10-11T06:42:19.601917",
     "exception": false,
     "start_time": "2020-10-11T06:42:19.553362",
     "status": "completed"
    },
    "tags": []
   },
   "outputs": [
    {
     "data": {
      "text/plain": [
       "0"
      ]
     },
     "execution_count": 17,
     "metadata": {},
     "output_type": "execute_result"
    }
   ],
   "source": [
    "X_train.isnull().sum().max()"
   ]
  },
  {
   "cell_type": "code",
   "execution_count": 18,
   "metadata": {
    "execution": {
     "iopub.execute_input": "2020-10-11T06:42:19.684230Z",
     "iopub.status.busy": "2020-10-11T06:42:19.683378Z",
     "iopub.status.idle": "2020-10-11T06:42:19.717918Z",
     "shell.execute_reply": "2020-10-11T06:42:19.717178Z"
    },
    "papermill": {
     "duration": 0.079294,
     "end_time": "2020-10-11T06:42:19.718050",
     "exception": false,
     "start_time": "2020-10-11T06:42:19.638756",
     "status": "completed"
    },
    "tags": []
   },
   "outputs": [],
   "source": [
    "tabular_cats['id'] = id_\n",
    "cat_train = tabular_cats[tabular_cats.id <= 4083]\n",
    "cat_test = tabular_cats[tabular_cats.id >= 4083]"
   ]
  },
  {
   "cell_type": "code",
   "execution_count": 19,
   "metadata": {
    "execution": {
     "iopub.execute_input": "2020-10-11T06:42:19.818468Z",
     "iopub.status.busy": "2020-10-11T06:42:19.817603Z",
     "iopub.status.idle": "2020-10-11T06:42:19.836952Z",
     "shell.execute_reply": "2020-10-11T06:42:19.836220Z"
    },
    "papermill": {
     "duration": 0.081445,
     "end_time": "2020-10-11T06:42:19.837080",
     "exception": false,
     "start_time": "2020-10-11T06:42:19.755635",
     "status": "completed"
    },
    "tags": []
   },
   "outputs": [
    {
     "name": "stderr",
     "output_type": "stream",
     "text": [
      "/opt/conda/lib/python3.7/site-packages/pandas/core/generic.py:5168: SettingWithCopyWarning: \n",
      "A value is trying to be set on a copy of a slice from a DataFrame.\n",
      "Try using .loc[row_indexer,col_indexer] = value instead\n",
      "\n",
      "See the caveats in the documentation: https://pandas.pydata.org/pandas-docs/stable/user_guide/indexing.html#returning-a-view-versus-a-copy\n",
      "  self[name] = value\n"
     ]
    }
   ],
   "source": [
    "from sklearn import preprocessing\n",
    "le = preprocessing.LabelEncoder()\n",
    "cat_train.feature_25 = pd.Series(le.fit_transform(cat_train.feature_25))\n",
    "cat_test.feature_25 = pd.Series(le.fit_transform(cat_test.feature_25))"
   ]
  },
  {
   "cell_type": "code",
   "execution_count": 20,
   "metadata": {
    "execution": {
     "iopub.execute_input": "2020-10-11T06:42:19.917537Z",
     "iopub.status.busy": "2020-10-11T06:42:19.916743Z",
     "iopub.status.idle": "2020-10-11T06:42:19.931040Z",
     "shell.execute_reply": "2020-10-11T06:42:19.930019Z"
    },
    "papermill": {
     "duration": 0.056851,
     "end_time": "2020-10-11T06:42:19.931221",
     "exception": false,
     "start_time": "2020-10-11T06:42:19.874370",
     "status": "completed"
    },
    "tags": []
   },
   "outputs": [
    {
     "name": "stdout",
     "output_type": "stream",
     "text": [
      "<class 'pandas.core.frame.DataFrame'>\n",
      "Int64Index: 49008 entries, 0 to 49007\n",
      "Data columns (total 9 columns):\n",
      " #   Column      Non-Null Count  Dtype  \n",
      "---  ------      --------------  -----  \n",
      " 0   period      49008 non-null  int64  \n",
      " 1   feature_0   49008 non-null  float64\n",
      " 2   feature_14  49008 non-null  float64\n",
      " 3   feature_15  49008 non-null  float64\n",
      " 4   feature_24  49008 non-null  float64\n",
      " 5   feature_25  49008 non-null  int64  \n",
      " 6   feature_43  49008 non-null  float64\n",
      " 7   feature_45  49008 non-null  float64\n",
      " 8   id          49008 non-null  int64  \n",
      "dtypes: float64(6), int64(3)\n",
      "memory usage: 3.7 MB\n"
     ]
    }
   ],
   "source": [
    "cat_train.info()"
   ]
  },
  {
   "cell_type": "code",
   "execution_count": 21,
   "metadata": {
    "execution": {
     "iopub.execute_input": "2020-10-11T06:42:20.018333Z",
     "iopub.status.busy": "2020-10-11T06:42:20.017527Z",
     "iopub.status.idle": "2020-10-11T06:42:20.032897Z",
     "shell.execute_reply": "2020-10-11T06:42:20.032252Z"
    },
    "papermill": {
     "duration": 0.063116,
     "end_time": "2020-10-11T06:42:20.033035",
     "exception": false,
     "start_time": "2020-10-11T06:42:19.969919",
     "status": "completed"
    },
    "tags": []
   },
   "outputs": [],
   "source": [
    "cat_train = cat_train.groupby('id').mean().reset_index()\n",
    "cat_test = cat_test.groupby('id').mean().reset_index()\n",
    "cat_train = cat_train.drop(['id'], axis=1)\n",
    "cat_test = cat_test.drop(['id'], axis=1)"
   ]
  },
  {
   "cell_type": "code",
   "execution_count": 22,
   "metadata": {
    "execution": {
     "iopub.execute_input": "2020-10-11T06:42:20.132267Z",
     "iopub.status.busy": "2020-10-11T06:42:20.131172Z",
     "iopub.status.idle": "2020-10-11T06:42:20.135853Z",
     "shell.execute_reply": "2020-10-11T06:42:20.136422Z"
    },
    "papermill": {
     "duration": 0.064764,
     "end_time": "2020-10-11T06:42:20.136588",
     "exception": false,
     "start_time": "2020-10-11T06:42:20.071824",
     "status": "completed"
    },
    "tags": []
   },
   "outputs": [
    {
     "data": {
      "text/html": [
       "<div>\n",
       "<style scoped>\n",
       "    .dataframe tbody tr th:only-of-type {\n",
       "        vertical-align: middle;\n",
       "    }\n",
       "\n",
       "    .dataframe tbody tr th {\n",
       "        vertical-align: top;\n",
       "    }\n",
       "\n",
       "    .dataframe thead th {\n",
       "        text-align: right;\n",
       "    }\n",
       "</style>\n",
       "<table border=\"1\" class=\"dataframe\">\n",
       "  <thead>\n",
       "    <tr style=\"text-align: right;\">\n",
       "      <th></th>\n",
       "      <th>feature_0</th>\n",
       "      <th>feature_14</th>\n",
       "      <th>feature_15</th>\n",
       "      <th>feature_24</th>\n",
       "      <th>feature_25</th>\n",
       "      <th>feature_43</th>\n",
       "      <th>feature_45</th>\n",
       "    </tr>\n",
       "  </thead>\n",
       "  <tbody>\n",
       "    <tr>\n",
       "      <th>0</th>\n",
       "      <td>110.000000</td>\n",
       "      <td>0.000000</td>\n",
       "      <td>6.750000</td>\n",
       "      <td>0.000000</td>\n",
       "      <td>2.50</td>\n",
       "      <td>0.000000</td>\n",
       "      <td>0.750000</td>\n",
       "    </tr>\n",
       "    <tr>\n",
       "      <th>1</th>\n",
       "      <td>110.000000</td>\n",
       "      <td>0.083333</td>\n",
       "      <td>19.583333</td>\n",
       "      <td>0.083333</td>\n",
       "      <td>7.00</td>\n",
       "      <td>0.083333</td>\n",
       "      <td>6.750000</td>\n",
       "    </tr>\n",
       "    <tr>\n",
       "      <th>2</th>\n",
       "      <td>110.166667</td>\n",
       "      <td>0.000000</td>\n",
       "      <td>0.416667</td>\n",
       "      <td>0.000000</td>\n",
       "      <td>2.75</td>\n",
       "      <td>0.000000</td>\n",
       "      <td>0.000000</td>\n",
       "    </tr>\n",
       "    <tr>\n",
       "      <th>3</th>\n",
       "      <td>110.052869</td>\n",
       "      <td>2.866729</td>\n",
       "      <td>10.699525</td>\n",
       "      <td>2.824369</td>\n",
       "      <td>1.75</td>\n",
       "      <td>0.986130</td>\n",
       "      <td>9.713053</td>\n",
       "    </tr>\n",
       "    <tr>\n",
       "      <th>4</th>\n",
       "      <td>110.000000</td>\n",
       "      <td>0.083333</td>\n",
       "      <td>21.083333</td>\n",
       "      <td>0.166667</td>\n",
       "      <td>7.00</td>\n",
       "      <td>0.166667</td>\n",
       "      <td>36.333333</td>\n",
       "    </tr>\n",
       "    <tr>\n",
       "      <th>...</th>\n",
       "      <td>...</td>\n",
       "      <td>...</td>\n",
       "      <td>...</td>\n",
       "      <td>...</td>\n",
       "      <td>...</td>\n",
       "      <td>...</td>\n",
       "      <td>...</td>\n",
       "    </tr>\n",
       "    <tr>\n",
       "      <th>4079</th>\n",
       "      <td>110.000000</td>\n",
       "      <td>0.083333</td>\n",
       "      <td>0.000000</td>\n",
       "      <td>0.166667</td>\n",
       "      <td>2.00</td>\n",
       "      <td>0.166667</td>\n",
       "      <td>3.833333</td>\n",
       "    </tr>\n",
       "    <tr>\n",
       "      <th>4080</th>\n",
       "      <td>110.000000</td>\n",
       "      <td>0.583333</td>\n",
       "      <td>0.000000</td>\n",
       "      <td>0.333333</td>\n",
       "      <td>7.00</td>\n",
       "      <td>0.416667</td>\n",
       "      <td>6.666667</td>\n",
       "    </tr>\n",
       "    <tr>\n",
       "      <th>4081</th>\n",
       "      <td>110.000000</td>\n",
       "      <td>0.000000</td>\n",
       "      <td>0.000000</td>\n",
       "      <td>0.000000</td>\n",
       "      <td>3.00</td>\n",
       "      <td>0.000000</td>\n",
       "      <td>24.583333</td>\n",
       "    </tr>\n",
       "    <tr>\n",
       "      <th>4082</th>\n",
       "      <td>110.000000</td>\n",
       "      <td>0.000000</td>\n",
       "      <td>0.666667</td>\n",
       "      <td>0.000000</td>\n",
       "      <td>3.00</td>\n",
       "      <td>0.000000</td>\n",
       "      <td>2.083333</td>\n",
       "    </tr>\n",
       "    <tr>\n",
       "      <th>4083</th>\n",
       "      <td>110.000000</td>\n",
       "      <td>3.000000</td>\n",
       "      <td>10.821589</td>\n",
       "      <td>4.083333</td>\n",
       "      <td>7.00</td>\n",
       "      <td>1.666667</td>\n",
       "      <td>6.250000</td>\n",
       "    </tr>\n",
       "  </tbody>\n",
       "</table>\n",
       "<p>4084 rows × 7 columns</p>\n",
       "</div>"
      ],
      "text/plain": [
       "       feature_0  feature_14  feature_15  feature_24  feature_25  feature_43  \\\n",
       "0     110.000000    0.000000    6.750000    0.000000        2.50    0.000000   \n",
       "1     110.000000    0.083333   19.583333    0.083333        7.00    0.083333   \n",
       "2     110.166667    0.000000    0.416667    0.000000        2.75    0.000000   \n",
       "3     110.052869    2.866729   10.699525    2.824369        1.75    0.986130   \n",
       "4     110.000000    0.083333   21.083333    0.166667        7.00    0.166667   \n",
       "...          ...         ...         ...         ...         ...         ...   \n",
       "4079  110.000000    0.083333    0.000000    0.166667        2.00    0.166667   \n",
       "4080  110.000000    0.583333    0.000000    0.333333        7.00    0.416667   \n",
       "4081  110.000000    0.000000    0.000000    0.000000        3.00    0.000000   \n",
       "4082  110.000000    0.000000    0.666667    0.000000        3.00    0.000000   \n",
       "4083  110.000000    3.000000   10.821589    4.083333        7.00    1.666667   \n",
       "\n",
       "      feature_45  \n",
       "0       0.750000  \n",
       "1       6.750000  \n",
       "2       0.000000  \n",
       "3       9.713053  \n",
       "4      36.333333  \n",
       "...          ...  \n",
       "4079    3.833333  \n",
       "4080    6.666667  \n",
       "4081   24.583333  \n",
       "4082    2.083333  \n",
       "4083    6.250000  \n",
       "\n",
       "[4084 rows x 7 columns]"
      ]
     },
     "execution_count": 22,
     "metadata": {},
     "output_type": "execute_result"
    }
   ],
   "source": [
    "cat_train = cat_train.drop(['period'], axis=1)\n",
    "cat_train"
   ]
  },
  {
   "cell_type": "code",
   "execution_count": 23,
   "metadata": {
    "execution": {
     "iopub.execute_input": "2020-10-11T06:42:20.220578Z",
     "iopub.status.busy": "2020-10-11T06:42:20.219774Z",
     "iopub.status.idle": "2020-10-11T06:42:20.255549Z",
     "shell.execute_reply": "2020-10-11T06:42:20.254850Z"
    },
    "papermill": {
     "duration": 0.080006,
     "end_time": "2020-10-11T06:42:20.255686",
     "exception": false,
     "start_time": "2020-10-11T06:42:20.175680",
     "status": "completed"
    },
    "tags": []
   },
   "outputs": [
    {
     "data": {
      "text/plain": [
       "array([[1.        , 0.05185223],\n",
       "       [0.05185223, 1.        ]])"
      ]
     },
     "execution_count": 23,
     "metadata": {},
     "output_type": "execute_result"
    }
   ],
   "source": [
    "np.corrcoef(cat_train.feature_14, y_train.target)"
   ]
  },
  {
   "cell_type": "code",
   "execution_count": 24,
   "metadata": {
    "execution": {
     "iopub.execute_input": "2020-10-11T06:42:20.350574Z",
     "iopub.status.busy": "2020-10-11T06:42:20.349638Z",
     "iopub.status.idle": "2020-10-11T06:42:20.353785Z",
     "shell.execute_reply": "2020-10-11T06:42:20.354528Z"
    },
    "papermill": {
     "duration": 0.058996,
     "end_time": "2020-10-11T06:42:20.354717",
     "exception": false,
     "start_time": "2020-10-11T06:42:20.295721",
     "status": "completed"
    },
    "tags": []
   },
   "outputs": [
    {
     "name": "stdout",
     "output_type": "stream",
     "text": [
      "<class 'pandas.core.frame.DataFrame'>\n",
      "RangeIndex: 4084 entries, 0 to 4083\n",
      "Data columns (total 7 columns):\n",
      " #   Column      Non-Null Count  Dtype  \n",
      "---  ------      --------------  -----  \n",
      " 0   feature_0   4084 non-null   float64\n",
      " 1   feature_14  4084 non-null   float64\n",
      " 2   feature_15  4084 non-null   float64\n",
      " 3   feature_24  4084 non-null   float64\n",
      " 4   feature_25  4084 non-null   float64\n",
      " 5   feature_43  4084 non-null   float64\n",
      " 6   feature_45  4084 non-null   float64\n",
      "dtypes: float64(7)\n",
      "memory usage: 223.5 KB\n"
     ]
    }
   ],
   "source": [
    "cat_train.info()"
   ]
  },
  {
   "cell_type": "code",
   "execution_count": 25,
   "metadata": {
    "execution": {
     "iopub.execute_input": "2020-10-11T06:42:20.473078Z",
     "iopub.status.busy": "2020-10-11T06:42:20.471882Z",
     "iopub.status.idle": "2020-10-11T06:42:20.475721Z",
     "shell.execute_reply": "2020-10-11T06:42:20.475096Z"
    },
    "papermill": {
     "duration": 0.078338,
     "end_time": "2020-10-11T06:42:20.475860",
     "exception": false,
     "start_time": "2020-10-11T06:42:20.397522",
     "status": "completed"
    },
    "tags": []
   },
   "outputs": [],
   "source": [
    "def add_noise(series, noise_level):\n",
    "    return series * (1 + noise_level * np.random.randn(len(series)))\n",
    "\n",
    "def target_encode(trn_series=None, \n",
    "                  tst_series=None, \n",
    "                  target=None, \n",
    "                  min_samples_leaf=1, \n",
    "                  smoothing=1,\n",
    "                  noise_level=0):\n",
    "   \n",
    "    assert len(trn_series) == len(target)\n",
    "    assert trn_series.name == tst_series.name\n",
    "    temp = pd.concat([trn_series, target], axis=1)\n",
    "    # Compute target mean \n",
    "    averages = temp.groupby(by=trn_series.name)[target.name].agg([\"mean\", \"count\"])\n",
    "    # Compute smoothing\n",
    "    smoothing = 1 / (1 + np.exp(-(averages[\"count\"] - min_samples_leaf) / smoothing))\n",
    "    # Apply average function to all target data\n",
    "    prior = target.mean()\n",
    "    # The bigger the count the less full_avg is taken into account\n",
    "    averages[target.name] = prior * (1 - smoothing) + averages[\"mean\"] * smoothing\n",
    "    averages.drop([\"mean\", \"count\"], axis=1, inplace=True)\n",
    "    # Apply averages to trn and tst series\n",
    "    ft_trn_series = pd.merge(\n",
    "        trn_series.to_frame(trn_series.name),\n",
    "        averages.reset_index().rename(columns={'index': target.name, target.name: 'average'}),\n",
    "        on=trn_series.name,\n",
    "        how='left')['average'].rename(trn_series.name + '_mean').fillna(prior)\n",
    "    # pd.merge does not keep the index so restore it\n",
    "    ft_trn_series.index = trn_series.index \n",
    "    ft_tst_series = pd.merge(\n",
    "        tst_series.to_frame(tst_series.name),\n",
    "        averages.reset_index().rename(columns={'index': target.name, target.name: 'average'}),\n",
    "        on=tst_series.name,\n",
    "        how='left')['average'].rename(trn_series.name + '_mean').fillna(prior)\n",
    "    # pd.merge does not keep the index so restore it\n",
    "    ft_tst_series.index = tst_series.index\n",
    "    return add_noise(ft_trn_series, noise_level), add_noise(ft_tst_series, noise_level)\n",
    "\n",
    "if TARGET_ENCODING:\n",
    "    \n",
    "    feature_25_train, feature_25_test = target_encode(cat_train.feature_25,cat_test.feature_25, \n",
    "                        target=y_train.target, \n",
    "                        min_samples_leaf=100,\n",
    "                        smoothing=5,\n",
    "                        noise_level=0.01)\n",
    "    \n",
    "    feature_0_train, feature_0_test = target_encode(cat_train.feature_0,cat_test.feature_0, \n",
    "                        target=y_train.target, \n",
    "                        min_samples_leaf=100,\n",
    "                        smoothing=5,\n",
    "                        noise_level=0.01)\n",
    "    \n",
    "    feature_15_train, feature_15_test = target_encode(cat_train.feature_15,cat_test.feature_15, \n",
    "                        target=y_train.target, \n",
    "                        min_samples_leaf=100,\n",
    "                        smoothing=5,\n",
    "                        noise_level=0.01)\n",
    "    \n",
    "    feature_24_train, feature_24_test = target_encode(cat_train.feature_24,cat_test.feature_24, \n",
    "                        target=y_train.target, \n",
    "                        min_samples_leaf=100,\n",
    "                        smoothing=5,\n",
    "                        noise_level=0.01)\n",
    "    \n",
    "    feature_43_train, feature_43_test = target_encode(cat_train.feature_43,cat_test.feature_43, \n",
    "                        target=y_train.target, \n",
    "                        min_samples_leaf=100,\n",
    "                        smoothing=5,\n",
    "                        noise_level=0.01)\n",
    "    \n",
    "    feature_45_train, feature_45_test = target_encode(cat_train.feature_45,cat_test.feature_45, \n",
    "                        target=y_train.target, \n",
    "                        min_samples_leaf=100,\n",
    "                        smoothing=5,\n",
    "                        noise_level=0.01)\n",
    "    \n",
    "    cat_train.feature_25 = feature_25_train\n",
    "    cat_test.feature_25 = feature_25_test\n",
    "    \n",
    "    cat_train.feature_0 = feature_0_train\n",
    "    cat_test.feature_0 = feature_0_test\n",
    "    \n",
    "    cat_train.feature_15 = feature_15_train\n",
    "    cat_test.feature_15 = feature_15_test\n",
    "    \n",
    "    cat_train.feature_24 = feature_24_train\n",
    "    cat_test.feature_24 = feature_24_test\n",
    "    \n",
    "    cat_train.feature_43 = feature_43_train\n",
    "    cat_test.feature_43 = feature_43_test\n",
    "    \n",
    "    cat_train.feature_45 = feature_45_train\n",
    "    cat_test.feature_45 = feature_45_test"
   ]
  },
  {
   "cell_type": "code",
   "execution_count": 26,
   "metadata": {
    "execution": {
     "iopub.execute_input": "2020-10-11T06:42:20.563432Z",
     "iopub.status.busy": "2020-10-11T06:42:20.562409Z",
     "iopub.status.idle": "2020-10-11T06:42:20.565830Z",
     "shell.execute_reply": "2020-10-11T06:42:20.565009Z"
    },
    "papermill": {
     "duration": 0.049197,
     "end_time": "2020-10-11T06:42:20.565963",
     "exception": false,
     "start_time": "2020-10-11T06:42:20.516766",
     "status": "completed"
    },
    "tags": []
   },
   "outputs": [],
   "source": [
    "#np.corrcoef(trn, y_train.target)"
   ]
  },
  {
   "cell_type": "code",
   "execution_count": 27,
   "metadata": {
    "execution": {
     "iopub.execute_input": "2020-10-11T06:42:20.655622Z",
     "iopub.status.busy": "2020-10-11T06:42:20.654497Z",
     "iopub.status.idle": "2020-10-11T06:42:20.658026Z",
     "shell.execute_reply": "2020-10-11T06:42:20.657256Z"
    },
    "papermill": {
     "duration": 0.050795,
     "end_time": "2020-10-11T06:42:20.658179",
     "exception": false,
     "start_time": "2020-10-11T06:42:20.607384",
     "status": "completed"
    },
    "tags": []
   },
   "outputs": [],
   "source": [
    "if TRAIN_WITH_CATS:\n",
    "    X_train = pd.concat([X_train, cat_train], axis=1)"
   ]
  },
  {
   "cell_type": "code",
   "execution_count": 28,
   "metadata": {
    "execution": {
     "iopub.execute_input": "2020-10-11T06:42:20.747722Z",
     "iopub.status.busy": "2020-10-11T06:42:20.746835Z",
     "iopub.status.idle": "2020-10-11T06:42:20.759745Z",
     "shell.execute_reply": "2020-10-11T06:42:20.759051Z"
    },
    "papermill": {
     "duration": 0.060211,
     "end_time": "2020-10-11T06:42:20.759876",
     "exception": false,
     "start_time": "2020-10-11T06:42:20.699665",
     "status": "completed"
    },
    "tags": []
   },
   "outputs": [
    {
     "name": "stdout",
     "output_type": "stream",
     "text": [
      "<class 'pandas.core.frame.DataFrame'>\n",
      "RangeIndex: 4084 entries, 0 to 4083\n",
      "Data columns (total 16 columns):\n",
      " #   Column          Non-Null Count  Dtype  \n",
      "---  ------          --------------  -----  \n",
      " 0   feature_2_max   4084 non-null   float64\n",
      " 1   feature_2_sum   4084 non-null   float64\n",
      " 2   feature_3_sum   4084 non-null   float64\n",
      " 3   feature_4_mean  4084 non-null   float64\n",
      " 4   feature_4_min   4084 non-null   float64\n",
      " 5   feature_5_mean  4084 non-null   float64\n",
      " 6   feature_5_min   4084 non-null   float64\n",
      " 7   feature_6_min   4084 non-null   float64\n",
      " 8   feature_7_min   4084 non-null   float64\n",
      " 9   feature_9_sum   4084 non-null   float64\n",
      " 10  feature_10_min  4084 non-null   float64\n",
      " 11  feature_10_sum  4084 non-null   float64\n",
      " 12  feature_11_min  4084 non-null   float64\n",
      " 13  feature_46_max  4084 non-null   float64\n",
      " 14  feature_46_sum  4084 non-null   float64\n",
      " 15  feature_50      4084 non-null   int64  \n",
      "dtypes: float64(15), int64(1)\n",
      "memory usage: 510.6 KB\n"
     ]
    }
   ],
   "source": [
    "X_train.info()"
   ]
  },
  {
   "cell_type": "code",
   "execution_count": 29,
   "metadata": {
    "execution": {
     "iopub.execute_input": "2020-10-11T06:42:20.873676Z",
     "iopub.status.busy": "2020-10-11T06:42:20.855929Z",
     "iopub.status.idle": "2020-10-11T06:42:20.877018Z",
     "shell.execute_reply": "2020-10-11T06:42:20.877622Z"
    },
    "papermill": {
     "duration": 0.074487,
     "end_time": "2020-10-11T06:42:20.877805",
     "exception": false,
     "start_time": "2020-10-11T06:42:20.803318",
     "status": "completed"
    },
    "tags": []
   },
   "outputs": [],
   "source": [
    "def plot_roc_curve(fprs, tprs):\n",
    "    \"\"\"Plot the Receiver Operating Characteristic from a list\n",
    "    of true positive rates and false positive rates.\"\"\"\n",
    "    \n",
    "    # Initialize useful lists + the plot axes.\n",
    "    tprs_interp = []\n",
    "    aucs = []\n",
    "    mean_fpr = np.linspace(0, 1, 100)\n",
    "    f, ax = plt.subplots(figsize=(14,10))\n",
    "    \n",
    "    # Plot ROC for each K-Fold + compute AUC scores.\n",
    "    for i, (fpr, tpr) in enumerate(zip(fprs, tprs)):\n",
    "        tprs_interp.append(np.interp(mean_fpr, fpr, tpr))\n",
    "        tprs_interp[-1][0] = 0.0\n",
    "        roc_auc = auc(fpr, tpr)\n",
    "        aucs.append(roc_auc)\n",
    "        ax.plot(fpr, tpr, lw=1, alpha=0.3,\n",
    "                 label='ROC fold %d (AUC = %0.2f)' % (i, roc_auc))\n",
    "        \n",
    "    # Plot the luck line.\n",
    "    plt.plot([0, 1], [0, 1], linestyle='--', lw=2, color='r',\n",
    "             label='Luck', alpha=.8)\n",
    "    \n",
    "    # Plot the mean ROC.\n",
    "    mean_tpr = np.mean(tprs_interp, axis=0)\n",
    "    mean_tpr[-1] = 1.0\n",
    "    mean_auc = auc(mean_fpr, mean_tpr)\n",
    "    std_auc = np.std(aucs)\n",
    "    ax.plot(mean_fpr, mean_tpr, color='b',\n",
    "             label=r'Mean ROC (AUC = %0.2f $\\pm$ %0.2f)' % (mean_auc, std_auc),\n",
    "             lw=2, alpha=.8)\n",
    "    \n",
    "    # Plot the standard deviation around the mean ROC.\n",
    "    std_tpr = np.std(tprs_interp, axis=0)\n",
    "    tprs_upper = np.minimum(mean_tpr + std_tpr, 1)\n",
    "    tprs_lower = np.maximum(mean_tpr - std_tpr, 0)\n",
    "    ax.fill_between(mean_fpr, tprs_lower, tprs_upper, color='grey', alpha=.2,\n",
    "                     label=r'$\\pm$ 1 std. dev.')\n",
    "    \n",
    "    # Fine tune and show the plot.\n",
    "    ax.set_xlim([-0.05, 1.05])\n",
    "    ax.set_ylim([-0.05, 1.05])\n",
    "    ax.set_xlabel('False Positive Rate')\n",
    "    ax.set_ylabel('True Positive Rate')\n",
    "    ax.set_title('Receiver operating characteristic')\n",
    "    ax.legend(loc=\"lower right\")\n",
    "    plt.show()\n",
    "    return (f, ax)\n",
    "\n",
    "def compute_roc_auc(index):\n",
    "    if CAT_BOOST:\n",
    "        y_predict = cb_model.predict_proba(X_train.iloc[index])[:,1]\n",
    "    elif LIGHT_GBM:\n",
    "        y_predict = clf.predict_proba(X_train.iloc[index])[:,1]\n",
    "    fpr, tpr, thresholds = roc_curve(y_train.target.iloc[index], y_predict)\n",
    "    auc_score = auc(fpr, tpr)\n",
    "    return fpr, tpr, auc_score"
   ]
  },
  {
   "cell_type": "code",
   "execution_count": 30,
   "metadata": {
    "execution": {
     "iopub.execute_input": "2020-10-11T06:42:20.978498Z",
     "iopub.status.busy": "2020-10-11T06:42:20.977419Z",
     "iopub.status.idle": "2020-10-11T06:42:22.195988Z",
     "shell.execute_reply": "2020-10-11T06:42:22.196615Z"
    },
    "papermill": {
     "duration": 1.276133,
     "end_time": "2020-10-11T06:42:22.196784",
     "exception": false,
     "start_time": "2020-10-11T06:42:20.920651",
     "status": "completed"
    },
    "tags": []
   },
   "outputs": [
    {
     "data": {
      "image/png": "[encoded data removed]",
      "text/plain": [
       "<Figure size 1008x720 with 1 Axes>"
      ]
     },
     "metadata": {
      "needs_background": "light"
     },
     "output_type": "display_data"
    }
   ],
   "source": [
    "import lightgbm as lgb\n",
    "\n",
    "if LIGHT_GBM:\n",
    "    params = {\n",
    "        'boosting_type': 'gbdt',\n",
    "        'max_depth' : 5,\n",
    "        'objective': 'binary',\n",
    "        'num_leaves': 64,\n",
    "        'learning_rate': 0.05,\n",
    "        'max_bin': 512,\n",
    "        'subsample_for_bin': 200,\n",
    "        'subsample': 1,\n",
    "        'subsample_freq': 1,\n",
    "        'colsample_bytree': 0.8, \n",
    "        'reg_alpha': 5,\n",
    "        'reg_lambda': 10,\n",
    "        'min_split_gain': 0.5,\n",
    "        'min_child_weight': 2,\n",
    "        'min_child_samples': 5,\n",
    "        'scale_pos_weight': 1,\n",
    "        'num_class' : 1,\n",
    "        'metric' : 'roc',\n",
    "    }\n",
    "    cv = StratifiedKFold(n_splits=5, random_state=123, shuffle=True)\n",
    "    results = pd.DataFrame(columns=['training_score', 'test_score'])\n",
    "    fprs, tprs, scores = [], [], []\n",
    "\n",
    "    clf = lgb.LGBMClassifier(**params)\n",
    "\n",
    "    for (train, test), i in zip(cv.split(X_train, y_train.target), range(5)):\n",
    "        clf.fit(X_train.iloc[train], y_train.target.iloc[train])\n",
    "        _, _, auc_score_train = compute_roc_auc(train)\n",
    "        fpr, tpr, auc_score = compute_roc_auc(test)\n",
    "        scores.append((auc_score_train, auc_score))\n",
    "        fprs.append(fpr)\n",
    "        tprs.append(tpr)\n",
    "\n",
    "    plot_roc_curve(fprs, tprs);\n",
    "    res = pd.DataFrame(scores, columns=['AUC Train', 'AUC Test'])\n",
    "    res"
   ]
  },
  {
   "cell_type": "code",
   "execution_count": 31,
   "metadata": {
    "execution": {
     "iopub.execute_input": "2020-10-11T06:42:22.296435Z",
     "iopub.status.busy": "2020-10-11T06:42:22.295564Z",
     "iopub.status.idle": "2020-10-11T06:42:22.300679Z",
     "shell.execute_reply": "2020-10-11T06:42:22.300017Z"
    },
    "papermill": {
     "duration": 0.057316,
     "end_time": "2020-10-11T06:42:22.300819",
     "exception": false,
     "start_time": "2020-10-11T06:42:22.243503",
     "status": "completed"
    },
    "tags": []
   },
   "outputs": [
    {
     "data": {
      "text/plain": [
       "array([15])"
      ]
     },
     "execution_count": 31,
     "metadata": {},
     "output_type": "execute_result"
    }
   ],
   "source": [
    "categorical_features_indices = np.where(X_train.dtypes != np.float)[0]\n",
    "categorical_features_indices"
   ]
  },
  {
   "cell_type": "code",
   "execution_count": 32,
   "metadata": {
    "execution": {
     "iopub.execute_input": "2020-10-11T06:42:22.400854Z",
     "iopub.status.busy": "2020-10-11T06:42:22.399699Z",
     "iopub.status.idle": "2020-10-11T06:42:22.402658Z",
     "shell.execute_reply": "2020-10-11T06:42:22.403209Z"
    },
    "papermill": {
     "duration": 0.056648,
     "end_time": "2020-10-11T06:42:22.403401",
     "exception": false,
     "start_time": "2020-10-11T06:42:22.346753",
     "status": "completed"
    },
    "tags": []
   },
   "outputs": [],
   "source": [
    "categorical_features_pos = np.array([13, 14, 15, 16, 17, 18, 19])"
   ]
  },
  {
   "cell_type": "code",
   "execution_count": 33,
   "metadata": {
    "execution": {
     "iopub.execute_input": "2020-10-11T06:42:22.512389Z",
     "iopub.status.busy": "2020-10-11T06:42:22.506620Z",
     "iopub.status.idle": "2020-10-11T06:42:22.742874Z",
     "shell.execute_reply": "2020-10-11T06:42:22.741928Z"
    },
    "papermill": {
     "duration": 0.292395,
     "end_time": "2020-10-11T06:42:22.743024",
     "exception": false,
     "start_time": "2020-10-11T06:42:22.450629",
     "status": "completed"
    },
    "tags": []
   },
   "outputs": [],
   "source": [
    "from catboost import CatBoostClassifier\n",
    "\n",
    "if CAT_BOOST:\n",
    "    \n",
    "    params = {\n",
    "        'iterations': 200,\n",
    "        'learning_rate': 0.5,\n",
    "        'depth': 3,\n",
    "        'l2_leaf_reg': 40,\n",
    "        'bootstrap_type': 'Bernoulli',\n",
    "        'subsample': 0.7,\n",
    "        'scale_pos_weight': 5,\n",
    "        'eval_metric': 'AUC',\n",
    "        'od_type': 'Iter',\n",
    "        'allow_writing_files': False,\n",
    "        'loss_function':'Logloss',\n",
    "    }\n",
    "    \n",
    "    cv = StratifiedKFold(n_splits=5, random_state=123, shuffle=True)\n",
    "    results = pd.DataFrame(columns=['training_score', 'test_score'])\n",
    "    fprs, tprs, scores = [], [], []\n",
    "    \n",
    "    cb_model = CatBoostClassifier(**params)\n",
    "    \n",
    "    for (train, test), i in zip(cv.split(X_train, y_train.target), range(5)):\n",
    "        cb_model.fit(X_train.iloc[train].values, y_train.target.iloc[train].values,\n",
    "             eval_set=(X_train.iloc[test],y_train.target.iloc[test]),\n",
    "             #cat_features=categorical_features_pos,\n",
    "             use_best_model=True,\n",
    "             verbose=True)\n",
    "        \n",
    "        _, _, auc_score_train = compute_roc_auc(train)\n",
    "        fpr, tpr, auc_score = compute_roc_auc(test)\n",
    "        scores.append((auc_score_train, auc_score))\n",
    "        fprs.append(fpr)\n",
    "        tprs.append(tpr)\n",
    "        \n",
    "    plot_roc_curve(fprs, tprs);\n",
    "    res = pd.DataFrame(scores, columns=['AUC Train', 'AUC Test'])\n",
    "    res"
   ]
  },
  {
   "cell_type": "code",
   "execution_count": 34,
   "metadata": {
    "execution": {
     "iopub.execute_input": "2020-10-11T06:42:22.847359Z",
     "iopub.status.busy": "2020-10-11T06:42:22.846081Z",
     "iopub.status.idle": "2020-10-11T06:42:23.031885Z",
     "shell.execute_reply": "2020-10-11T06:42:23.031073Z"
    },
    "papermill": {
     "duration": 0.242411,
     "end_time": "2020-10-11T06:42:23.032020",
     "exception": false,
     "start_time": "2020-10-11T06:42:22.789609",
     "status": "completed"
    },
    "tags": []
   },
   "outputs": [
    {
     "data": {
      "image/png": "[encoded data removed]",
      "text/plain": [
       "<Figure size 432x288 with 1 Axes>"
      ]
     },
     "metadata": {
      "needs_background": "light"
     },
     "output_type": "display_data"
    }
   ],
   "source": [
    "if CAT_BOOST:\n",
    "    importance = cb_model.feature_importances_\n",
    "elif LIGHT_GBM:\n",
    "    importance = clf.feature_importances_\n",
    "fe_dict = []\n",
    "for i,v in enumerate(importance):\n",
    "    #print('Feature: %0d, Score: %.5f' % (i,v))\n",
    "    fe_dict.append({\"feature_num\": i, \"score\": v})\n",
    "    \n",
    "# plot feature importance\n",
    "plt.bar([x for x in range(len(importance))], importance)\n",
    "plt.show()"
   ]
  },
  {
   "cell_type": "code",
   "execution_count": 35,
   "metadata": {
    "execution": {
     "iopub.execute_input": "2020-10-11T06:42:23.137774Z",
     "iopub.status.busy": "2020-10-11T06:42:23.136488Z",
     "iopub.status.idle": "2020-10-11T06:42:23.141587Z",
     "shell.execute_reply": "2020-10-11T06:42:23.140969Z"
    },
    "papermill": {
     "duration": 0.061462,
     "end_time": "2020-10-11T06:42:23.141745",
     "exception": false,
     "start_time": "2020-10-11T06:42:23.080283",
     "status": "completed"
    },
    "tags": []
   },
   "outputs": [
    {
     "data": {
      "text/plain": [
       "AUC Train    0.821908\n",
       "AUC Test     0.755913\n",
       "dtype: float64"
      ]
     },
     "execution_count": 35,
     "metadata": {},
     "output_type": "execute_result"
    }
   ],
   "source": [
    "res.mean()"
   ]
  },
  {
   "cell_type": "code",
   "execution_count": 36,
   "metadata": {
    "execution": {
     "iopub.execute_input": "2020-10-11T06:42:23.254079Z",
     "iopub.status.busy": "2020-10-11T06:42:23.252900Z",
     "iopub.status.idle": "2020-10-11T06:42:23.258278Z",
     "shell.execute_reply": "2020-10-11T06:42:23.257642Z"
    },
    "papermill": {
     "duration": 0.066635,
     "end_time": "2020-10-11T06:42:23.258435",
     "exception": false,
     "start_time": "2020-10-11T06:42:23.191800",
     "status": "completed"
    },
    "tags": []
   },
   "outputs": [
    {
     "data": {
      "text/plain": [
       "[0, 1, 2, 3, 4, 5, 7, 8, 9, 10, 11, 12, 13, 14, 15]"
      ]
     },
     "execution_count": 36,
     "metadata": {},
     "output_type": "execute_result"
    }
   ],
   "source": [
    "fe_df = pd.DataFrame(fe_dict)\n",
    "best_features = list(fe_df.feature_num[fe_df.score > 5])\n",
    "best_features"
   ]
  },
  {
   "cell_type": "code",
   "execution_count": 37,
   "metadata": {
    "execution": {
     "iopub.execute_input": "2020-10-11T06:42:23.381464Z",
     "iopub.status.busy": "2020-10-11T06:42:23.380692Z",
     "iopub.status.idle": "2020-10-11T06:42:23.400271Z",
     "shell.execute_reply": "2020-10-11T06:42:23.399344Z"
    },
    "papermill": {
     "duration": 0.090207,
     "end_time": "2020-10-11T06:42:23.400432",
     "exception": false,
     "start_time": "2020-10-11T06:42:23.310225",
     "status": "completed"
    },
    "tags": []
   },
   "outputs": [
    {
     "data": {
      "text/html": [
       "<div>\n",
       "<style scoped>\n",
       "    .dataframe tbody tr th:only-of-type {\n",
       "        vertical-align: middle;\n",
       "    }\n",
       "\n",
       "    .dataframe tbody tr th {\n",
       "        vertical-align: top;\n",
       "    }\n",
       "\n",
       "    .dataframe thead th {\n",
       "        text-align: right;\n",
       "    }\n",
       "</style>\n",
       "<table border=\"1\" class=\"dataframe\">\n",
       "  <thead>\n",
       "    <tr style=\"text-align: right;\">\n",
       "      <th></th>\n",
       "      <th>feature_2_max</th>\n",
       "      <th>feature_2_sum</th>\n",
       "      <th>feature_3_sum</th>\n",
       "      <th>feature_4_mean</th>\n",
       "      <th>feature_4_min</th>\n",
       "      <th>feature_5_mean</th>\n",
       "      <th>feature_6_min</th>\n",
       "      <th>feature_7_min</th>\n",
       "      <th>feature_9_sum</th>\n",
       "      <th>feature_10_min</th>\n",
       "      <th>feature_10_sum</th>\n",
       "      <th>feature_11_min</th>\n",
       "      <th>feature_46_max</th>\n",
       "      <th>feature_46_sum</th>\n",
       "      <th>feature_50</th>\n",
       "    </tr>\n",
       "  </thead>\n",
       "  <tbody>\n",
       "    <tr>\n",
       "      <th>0</th>\n",
       "      <td>0.552340</td>\n",
       "      <td>2.866555</td>\n",
       "      <td>3523.629746</td>\n",
       "      <td>430.134167</td>\n",
       "      <td>159.25</td>\n",
       "      <td>0.000000</td>\n",
       "      <td>0.316798</td>\n",
       "      <td>391.127914</td>\n",
       "      <td>3.740000</td>\n",
       "      <td>156.13</td>\n",
       "      <td>5152.770000</td>\n",
       "      <td>55.00</td>\n",
       "      <td>0.776175</td>\n",
       "      <td>6.009026</td>\n",
       "      <td>10</td>\n",
       "    </tr>\n",
       "    <tr>\n",
       "      <th>1</th>\n",
       "      <td>0.218627</td>\n",
       "      <td>0.725314</td>\n",
       "      <td>83286.958225</td>\n",
       "      <td>1119.352500</td>\n",
       "      <td>631.70</td>\n",
       "      <td>0.000000</td>\n",
       "      <td>0.103532</td>\n",
       "      <td>392.570000</td>\n",
       "      <td>4792.498484</td>\n",
       "      <td>631.15</td>\n",
       "      <td>13387.470000</td>\n",
       "      <td>-145.00</td>\n",
       "      <td>0.665440</td>\n",
       "      <td>4.068892</td>\n",
       "      <td>43</td>\n",
       "    </tr>\n",
       "    <tr>\n",
       "      <th>2</th>\n",
       "      <td>5.203073</td>\n",
       "      <td>8.559721</td>\n",
       "      <td>1.696433</td>\n",
       "      <td>4.168333</td>\n",
       "      <td>0.00</td>\n",
       "      <td>0.000000</td>\n",
       "      <td>0.119820</td>\n",
       "      <td>391.127914</td>\n",
       "      <td>0.000000</td>\n",
       "      <td>0.00</td>\n",
       "      <td>44.540000</td>\n",
       "      <td>0.00</td>\n",
       "      <td>0.420170</td>\n",
       "      <td>2.566367</td>\n",
       "      <td>14</td>\n",
       "    </tr>\n",
       "    <tr>\n",
       "      <th>3</th>\n",
       "      <td>5.170391</td>\n",
       "      <td>8.230128</td>\n",
       "      <td>31578.475518</td>\n",
       "      <td>329.931203</td>\n",
       "      <td>6.67</td>\n",
       "      <td>1099.895548</td>\n",
       "      <td>0.576053</td>\n",
       "      <td>62.500000</td>\n",
       "      <td>1042.956985</td>\n",
       "      <td>6.20</td>\n",
       "      <td>3713.040859</td>\n",
       "      <td>33.50</td>\n",
       "      <td>0.758731</td>\n",
       "      <td>5.852904</td>\n",
       "      <td>6</td>\n",
       "    </tr>\n",
       "    <tr>\n",
       "      <th>4</th>\n",
       "      <td>0.177734</td>\n",
       "      <td>1.604314</td>\n",
       "      <td>30819.401741</td>\n",
       "      <td>460.332500</td>\n",
       "      <td>251.73</td>\n",
       "      <td>0.000000</td>\n",
       "      <td>0.472205</td>\n",
       "      <td>240.520000</td>\n",
       "      <td>533.350000</td>\n",
       "      <td>232.05</td>\n",
       "      <td>4950.060000</td>\n",
       "      <td>30.50</td>\n",
       "      <td>0.965164</td>\n",
       "      <td>9.431095</td>\n",
       "      <td>52</td>\n",
       "    </tr>\n",
       "    <tr>\n",
       "      <th>...</th>\n",
       "      <td>...</td>\n",
       "      <td>...</td>\n",
       "      <td>...</td>\n",
       "      <td>...</td>\n",
       "      <td>...</td>\n",
       "      <td>...</td>\n",
       "      <td>...</td>\n",
       "      <td>...</td>\n",
       "      <td>...</td>\n",
       "      <td>...</td>\n",
       "      <td>...</td>\n",
       "      <td>...</td>\n",
       "      <td>...</td>\n",
       "      <td>...</td>\n",
       "      <td>...</td>\n",
       "    </tr>\n",
       "    <tr>\n",
       "      <th>4079</th>\n",
       "      <td>0.721437</td>\n",
       "      <td>5.118865</td>\n",
       "      <td>0.000000</td>\n",
       "      <td>114.083333</td>\n",
       "      <td>59.13</td>\n",
       "      <td>0.000000</td>\n",
       "      <td>0.184032</td>\n",
       "      <td>108.100000</td>\n",
       "      <td>131.920000</td>\n",
       "      <td>44.45</td>\n",
       "      <td>1230.680000</td>\n",
       "      <td>-48.50</td>\n",
       "      <td>0.684405</td>\n",
       "      <td>5.172506</td>\n",
       "      <td>17</td>\n",
       "    </tr>\n",
       "    <tr>\n",
       "      <th>4080</th>\n",
       "      <td>5.282176</td>\n",
       "      <td>8.967632</td>\n",
       "      <td>0.000000</td>\n",
       "      <td>37.928333</td>\n",
       "      <td>4.20</td>\n",
       "      <td>0.000000</td>\n",
       "      <td>0.171789</td>\n",
       "      <td>4.600000</td>\n",
       "      <td>1376.849313</td>\n",
       "      <td>0.00</td>\n",
       "      <td>370.640000</td>\n",
       "      <td>-55.00</td>\n",
       "      <td>0.692862</td>\n",
       "      <td>4.701403</td>\n",
       "      <td>4</td>\n",
       "    </tr>\n",
       "    <tr>\n",
       "      <th>4081</th>\n",
       "      <td>0.764390</td>\n",
       "      <td>6.616630</td>\n",
       "      <td>0.000000</td>\n",
       "      <td>35.915000</td>\n",
       "      <td>0.00</td>\n",
       "      <td>0.000000</td>\n",
       "      <td>0.059876</td>\n",
       "      <td>36.630000</td>\n",
       "      <td>32.170000</td>\n",
       "      <td>0.00</td>\n",
       "      <td>373.380000</td>\n",
       "      <td>-40.49</td>\n",
       "      <td>0.864929</td>\n",
       "      <td>6.068331</td>\n",
       "      <td>8</td>\n",
       "    </tr>\n",
       "    <tr>\n",
       "      <th>4082</th>\n",
       "      <td>5.449248</td>\n",
       "      <td>12.822861</td>\n",
       "      <td>469.627334</td>\n",
       "      <td>4107.516667</td>\n",
       "      <td>75.95</td>\n",
       "      <td>0.000000</td>\n",
       "      <td>0.017839</td>\n",
       "      <td>130.120000</td>\n",
       "      <td>123.470000</td>\n",
       "      <td>74.72</td>\n",
       "      <td>49025.220000</td>\n",
       "      <td>0.00</td>\n",
       "      <td>0.519355</td>\n",
       "      <td>2.914990</td>\n",
       "      <td>7</td>\n",
       "    </tr>\n",
       "    <tr>\n",
       "      <th>4083</th>\n",
       "      <td>0.177228</td>\n",
       "      <td>0.980860</td>\n",
       "      <td>640513.949946</td>\n",
       "      <td>174.801667</td>\n",
       "      <td>65.63</td>\n",
       "      <td>52941.837360</td>\n",
       "      <td>0.660136</td>\n",
       "      <td>63.350000</td>\n",
       "      <td>4911.784162</td>\n",
       "      <td>64.98</td>\n",
       "      <td>2027.690000</td>\n",
       "      <td>-31.76</td>\n",
       "      <td>0.836954</td>\n",
       "      <td>5.614010</td>\n",
       "      <td>82</td>\n",
       "    </tr>\n",
       "  </tbody>\n",
       "</table>\n",
       "<p>4084 rows × 15 columns</p>\n",
       "</div>"
      ],
      "text/plain": [
       "      feature_2_max  feature_2_sum  feature_3_sum  feature_4_mean  \\\n",
       "0          0.552340       2.866555    3523.629746      430.134167   \n",
       "1          0.218627       0.725314   83286.958225     1119.352500   \n",
       "2          5.203073       8.559721       1.696433        4.168333   \n",
       "3          5.170391       8.230128   31578.475518      329.931203   \n",
       "4          0.177734       1.604314   30819.401741      460.332500   \n",
       "...             ...            ...            ...             ...   \n",
       "4079       0.721437       5.118865       0.000000      114.083333   \n",
       "4080       5.282176       8.967632       0.000000       37.928333   \n",
       "4081       0.764390       6.616630       0.000000       35.915000   \n",
       "4082       5.449248      12.822861     469.627334     4107.516667   \n",
       "4083       0.177228       0.980860  640513.949946      174.801667   \n",
       "\n",
       "      feature_4_min  feature_5_mean  feature_6_min  feature_7_min  \\\n",
       "0            159.25        0.000000       0.316798     391.127914   \n",
       "1            631.70        0.000000       0.103532     392.570000   \n",
       "2              0.00        0.000000       0.119820     391.127914   \n",
       "3              6.67     1099.895548       0.576053      62.500000   \n",
       "4            251.73        0.000000       0.472205     240.520000   \n",
       "...             ...             ...            ...            ...   \n",
       "4079          59.13        0.000000       0.184032     108.100000   \n",
       "4080           4.20        0.000000       0.171789       4.600000   \n",
       "4081           0.00        0.000000       0.059876      36.630000   \n",
       "4082          75.95        0.000000       0.017839     130.120000   \n",
       "4083          65.63    52941.837360       0.660136      63.350000   \n",
       "\n",
       "      feature_9_sum  feature_10_min  feature_10_sum  feature_11_min  \\\n",
       "0          3.740000          156.13     5152.770000           55.00   \n",
       "1       4792.498484          631.15    13387.470000         -145.00   \n",
       "2          0.000000            0.00       44.540000            0.00   \n",
       "3       1042.956985            6.20     3713.040859           33.50   \n",
       "4        533.350000          232.05     4950.060000           30.50   \n",
       "...             ...             ...             ...             ...   \n",
       "4079     131.920000           44.45     1230.680000          -48.50   \n",
       "4080    1376.849313            0.00      370.640000          -55.00   \n",
       "4081      32.170000            0.00      373.380000          -40.49   \n",
       "4082     123.470000           74.72    49025.220000            0.00   \n",
       "4083    4911.784162           64.98     2027.690000          -31.76   \n",
       "\n",
       "      feature_46_max  feature_46_sum  feature_50  \n",
       "0           0.776175        6.009026          10  \n",
       "1           0.665440        4.068892          43  \n",
       "2           0.420170        2.566367          14  \n",
       "3           0.758731        5.852904           6  \n",
       "4           0.965164        9.431095          52  \n",
       "...              ...             ...         ...  \n",
       "4079        0.684405        5.172506          17  \n",
       "4080        0.692862        4.701403           4  \n",
       "4081        0.864929        6.068331           8  \n",
       "4082        0.519355        2.914990           7  \n",
       "4083        0.836954        5.614010          82  \n",
       "\n",
       "[4084 rows x 15 columns]"
      ]
     },
     "execution_count": 37,
     "metadata": {},
     "output_type": "execute_result"
    }
   ],
   "source": [
    "X_train.iloc[:, best_features]"
   ]
  },
  {
   "cell_type": "code",
   "execution_count": 38,
   "metadata": {
    "execution": {
     "iopub.execute_input": "2020-10-11T06:42:23.512643Z",
     "iopub.status.busy": "2020-10-11T06:42:23.511753Z",
     "iopub.status.idle": "2020-10-11T06:42:23.521624Z",
     "shell.execute_reply": "2020-10-11T06:42:23.520814Z"
    },
    "papermill": {
     "duration": 0.067649,
     "end_time": "2020-10-11T06:42:23.521809",
     "exception": false,
     "start_time": "2020-10-11T06:42:23.454160",
     "status": "completed"
    },
    "tags": []
   },
   "outputs": [],
   "source": [
    "if CAT_BOOST:\n",
    "    test_preds = cb_model.predict_proba(X_test)[:,1]\n",
    "elif LIGHT_GBM:\n",
    "    test_preds = clf.predict_proba(X_test)[:,1]"
   ]
  },
  {
   "cell_type": "code",
   "execution_count": 39,
   "metadata": {
    "execution": {
     "iopub.execute_input": "2020-10-11T06:42:23.652851Z",
     "iopub.status.busy": "2020-10-11T06:42:23.651937Z",
     "iopub.status.idle": "2020-10-11T06:42:23.665531Z",
     "shell.execute_reply": "2020-10-11T06:42:23.666460Z"
    },
    "papermill": {
     "duration": 0.082188,
     "end_time": "2020-10-11T06:42:23.666662",
     "exception": false,
     "start_time": "2020-10-11T06:42:23.584474",
     "status": "completed"
    },
    "tags": []
   },
   "outputs": [
    {
     "data": {
      "text/html": [
       "<div>\n",
       "<style scoped>\n",
       "    .dataframe tbody tr th:only-of-type {\n",
       "        vertical-align: middle;\n",
       "    }\n",
       "\n",
       "    .dataframe tbody tr th {\n",
       "        vertical-align: top;\n",
       "    }\n",
       "\n",
       "    .dataframe thead th {\n",
       "        text-align: right;\n",
       "    }\n",
       "</style>\n",
       "<table border=\"1\" class=\"dataframe\">\n",
       "  <thead>\n",
       "    <tr style=\"text-align: right;\">\n",
       "      <th></th>\n",
       "      <th>id</th>\n",
       "      <th>score</th>\n",
       "    </tr>\n",
       "  </thead>\n",
       "  <tbody>\n",
       "    <tr>\n",
       "      <th>0</th>\n",
       "      <td>4084</td>\n",
       "      <td>0.077968</td>\n",
       "    </tr>\n",
       "    <tr>\n",
       "      <th>1</th>\n",
       "      <td>4085</td>\n",
       "      <td>0.118458</td>\n",
       "    </tr>\n",
       "    <tr>\n",
       "      <th>2</th>\n",
       "      <td>4086</td>\n",
       "      <td>0.086783</td>\n",
       "    </tr>\n",
       "    <tr>\n",
       "      <th>3</th>\n",
       "      <td>4087</td>\n",
       "      <td>0.181897</td>\n",
       "    </tr>\n",
       "    <tr>\n",
       "      <th>4</th>\n",
       "      <td>4088</td>\n",
       "      <td>0.322290</td>\n",
       "    </tr>\n",
       "    <tr>\n",
       "      <th>...</th>\n",
       "      <td>...</td>\n",
       "      <td>...</td>\n",
       "    </tr>\n",
       "    <tr>\n",
       "      <th>1017</th>\n",
       "      <td>5101</td>\n",
       "      <td>0.210672</td>\n",
       "    </tr>\n",
       "    <tr>\n",
       "      <th>1018</th>\n",
       "      <td>5102</td>\n",
       "      <td>0.500738</td>\n",
       "    </tr>\n",
       "    <tr>\n",
       "      <th>1019</th>\n",
       "      <td>5103</td>\n",
       "      <td>0.174096</td>\n",
       "    </tr>\n",
       "    <tr>\n",
       "      <th>1020</th>\n",
       "      <td>5104</td>\n",
       "      <td>0.204360</td>\n",
       "    </tr>\n",
       "    <tr>\n",
       "      <th>1021</th>\n",
       "      <td>5105</td>\n",
       "      <td>0.050751</td>\n",
       "    </tr>\n",
       "  </tbody>\n",
       "</table>\n",
       "<p>1022 rows × 2 columns</p>\n",
       "</div>"
      ],
      "text/plain": [
       "        id     score\n",
       "0     4084  0.077968\n",
       "1     4085  0.118458\n",
       "2     4086  0.086783\n",
       "3     4087  0.181897\n",
       "4     4088  0.322290\n",
       "...    ...       ...\n",
       "1017  5101  0.210672\n",
       "1018  5102  0.500738\n",
       "1019  5103  0.174096\n",
       "1020  5104  0.204360\n",
       "1021  5105  0.050751\n",
       "\n",
       "[1022 rows x 2 columns]"
      ]
     },
     "execution_count": 39,
     "metadata": {},
     "output_type": "execute_result"
    }
   ],
   "source": [
    "y_test.score = test_preds\n",
    "y_test"
   ]
  },
  {
   "cell_type": "code",
   "execution_count": 40,
   "metadata": {
    "execution": {
     "iopub.execute_input": "2020-10-11T06:42:23.787025Z",
     "iopub.status.busy": "2020-10-11T06:42:23.786117Z",
     "iopub.status.idle": "2020-10-11T06:42:24.163264Z",
     "shell.execute_reply": "2020-10-11T06:42:24.162480Z"
    },
    "papermill": {
     "duration": 0.435882,
     "end_time": "2020-10-11T06:42:24.163401",
     "exception": false,
     "start_time": "2020-10-11T06:42:23.727519",
     "status": "completed"
    },
    "tags": []
   },
   "outputs": [],
   "source": [
    "if CAT_BOOST:\n",
    "    y_test.to_csv('catboost_sub.csv', index=False)\n",
    "elif LIGHT_GBM:\n",
    "    y_test.to_csv('lightgbm_sub.csv',index=False)"
   ]
  }
 ],
 "metadata": {
  "kernelspec": {
   "display_name": "Python 3",
   "language": "python",
   "name": "python3"
  },
  "language_info": {
   "codemirror_mode": {
    "name": "ipython",
    "version": 3
   },
   "file_extension": ".py",
   "mimetype": "text/x-python",
   "name": "python",
   "nbconvert_exporter": "python",
   "pygments_lexer": "ipython3",
   "version": "3.7.6"
  },
  "papermill": {
   "duration": 26.522954,
   "end_time": "2020-10-11T06:42:24.323273",
   "environment_variables": {},
   "exception": null,
   "input_path": "__notebook__.ipynb",
   "output_path": "__notebook__.ipynb",
   "parameters": {},
   "start_time": "2020-10-11T06:41:57.800319",
   "version": "2.1.0"
  }
 },
 "nbformat": 4,
 "nbformat_minor": 4
}
